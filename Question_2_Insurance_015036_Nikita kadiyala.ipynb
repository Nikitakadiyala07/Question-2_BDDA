{
 "cells": [
  {
   "cell_type": "code",
   "execution_count": 1,
   "metadata": {
    "id": "rwATwaUfSrvt"
   },
   "outputs": [],
   "source": [
    "from pyspark.sql import SparkSession"
   ]
  },
  {
   "cell_type": "code",
   "execution_count": 2,
   "metadata": {
    "id": "jCp-KpMLSrvx"
   },
   "outputs": [],
   "source": [
    "spark = SparkSession.builder.appName('Ins').getOrCreate()"
   ]
  },
  {
   "cell_type": "code",
   "execution_count": 3,
   "metadata": {
    "id": "asI251iuSrvy"
   },
   "outputs": [],
   "source": [
    "import numpy as np\n",
    "\n",
    "from pyspark.ml.feature import StringIndexer, OneHotEncoder\n",
    "\n",
    "from pyspark.ml.feature import VectorAssembler\n",
    "from pyspark.ml.linalg import Vectors\n",
    "from pyspark.ml.feature import StringIndexer\n",
    "from pyspark.ml.feature import MinMaxScaler, StandardScaler\n",
    "from pyspark.ml import Pipeline"
   ]
  },
  {
   "cell_type": "code",
   "execution_count": 4,
   "metadata": {
    "id": "vflY-vP0Srvz"
   },
   "outputs": [],
   "source": [
    "from pyspark.ml.classification import LogisticRegression\n",
    "\n",
    "from pyspark.ml.tuning import ParamGridBuilder, CrossValidator\n",
    "\n",
    "import time"
   ]
  },
  {
   "cell_type": "code",
   "execution_count": 5,
   "metadata": {
    "id": "sy2FpfquSrv1"
   },
   "outputs": [],
   "source": [
    "df = spark.read.csv('insurance.csv' , header=True , inferSchema=True)"
   ]
  },
  {
   "cell_type": "code",
   "execution_count": 6,
   "metadata": {
    "id": "Z6BFqY9eSrv4",
    "outputId": "c31ff6d0-2c83-4122-b7fb-bd7f8b35e7cb"
   },
   "outputs": [
    {
     "name": "stdout",
     "output_type": "stream",
     "text": [
      "+---+------+------+--------+------+---------+-----------+\n",
      "|age|   sex|   bmi|children|smoker|   region|    charges|\n",
      "+---+------+------+--------+------+---------+-----------+\n",
      "| 19|female|  27.9|       0|   yes|southwest|  16884.924|\n",
      "| 18|  male| 33.77|       1|    no|southeast|  1725.5523|\n",
      "| 28|  male|  33.0|       3|    no|southeast|   4449.462|\n",
      "| 33|  male|22.705|       0|    no|northwest|21984.47061|\n",
      "| 32|  male| 28.88|       0|    no|northwest|  3866.8552|\n",
      "| 31|female| 25.74|       0|    no|southeast|  3756.6216|\n",
      "| 46|female| 33.44|       1|    no|southeast|  8240.5896|\n",
      "| 37|female| 27.74|       3|    no|northwest|  7281.5056|\n",
      "| 37|  male| 29.83|       2|    no|northeast|  6406.4107|\n",
      "| 60|female| 25.84|       0|    no|northwest|28923.13692|\n",
      "| 25|  male| 26.22|       0|    no|northeast|  2721.3208|\n",
      "| 62|female| 26.29|       0|   yes|southeast| 27808.7251|\n",
      "| 23|  male|  34.4|       0|    no|southwest|   1826.843|\n",
      "| 56|female| 39.82|       0|    no|southeast| 11090.7178|\n",
      "| 27|  male| 42.13|       0|   yes|southeast| 39611.7577|\n",
      "| 19|  male|  24.6|       1|    no|southwest|   1837.237|\n",
      "| 52|female| 30.78|       1|    no|northeast| 10797.3362|\n",
      "| 23|  male|23.845|       0|    no|northeast| 2395.17155|\n",
      "| 56|  male|  40.3|       0|    no|southwest|  10602.385|\n",
      "| 30|  male|  35.3|       0|   yes|southwest|  36837.467|\n",
      "+---+------+------+--------+------+---------+-----------+\n",
      "only showing top 20 rows\n",
      "\n"
     ]
    }
   ],
   "source": [
    "df.show()"
   ]
  },
  {
   "cell_type": "code",
   "execution_count": 7,
   "metadata": {
    "id": "Boss9et1SrwA"
   },
   "outputs": [],
   "source": [
    "\n",
    "index = [StringIndexer(inputCol=\"sex\" , outputCol=\"sex_ind\"),\n",
    "        StringIndexer(inputCol=\"smoker\" , outputCol=\"smoker_ind\"),\n",
    "        StringIndexer(inputCol=\"region\" , outputCol=\"region_ind\") \n",
    "        ]"
   ]
  },
  {
   "cell_type": "code",
   "execution_count": 8,
   "metadata": {
    "id": "Na4B-J5TSrwA"
   },
   "outputs": [],
   "source": [
    "pipe = Pipeline(stages=index)\n",
    "NewDF = pipe.fit(df).transform(df)"
   ]
  },
  {
   "cell_type": "code",
   "execution_count": 9,
   "metadata": {
    "id": "PF2zwNjhSrwE"
   },
   "outputs": [],
   "source": [
    "assemble = VectorAssembler(inputCols=[\"age\" , \"bmi\" , \"sex_ind\" , \"smoker_ind\"] , outputCol=\"comp_feat\")"
   ]
  },
  {
   "cell_type": "code",
   "execution_count": 10,
   "metadata": {
    "id": "a8Pl7gCpSrwE"
   },
   "outputs": [],
   "source": [
    "compiled = assemble.transform(NewDF)"
   ]
  },
  {
   "cell_type": "code",
   "execution_count": 12,
   "metadata": {
    "id": "cGs90WBSSrwF"
   },
   "outputs": [],
   "source": [
    "FinalDF = compiled.select(\"comp_feat\" , \"charges\")"
   ]
  },
  {
   "cell_type": "code",
   "execution_count": 13,
   "metadata": {
    "id": "SDVXjAQ8SrwG"
   },
   "outputs": [],
   "source": [
    "Train_df, Test_df = FinalDF.randomSplit([0.6,0.4])"
   ]
  },
  {
   "cell_type": "code",
   "execution_count": 14,
   "metadata": {
    "id": "pjygJaNHSrwG"
   },
   "outputs": [],
   "source": [
    "from pyspark.ml.regression import LinearRegression\n",
    "LR = LinearRegression(featuresCol=\"comp_feat\" , labelCol=\"charges\")"
   ]
  },
  {
   "cell_type": "code",
   "execution_count": 15,
   "metadata": {
    "id": "RITR8v-HSrwH"
   },
   "outputs": [],
   "source": [
    "regressor = LR.fit(Train_df)"
   ]
  },
  {
   "cell_type": "code",
   "execution_count": 16,
   "metadata": {
    "id": "7_BayYeASrwH"
   },
   "outputs": [],
   "source": [
    "predict = regressor.evaluate(Test_df)"
   ]
  },
  {
   "cell_type": "code",
   "execution_count": 17,
   "metadata": {
    "id": "3Vattl27SrwI"
   },
   "outputs": [],
   "source": [
    "from pyspark.ml.evaluation import RegressionEvaluator"
   ]
  },
  {
   "cell_type": "code",
   "execution_count": 18,
   "metadata": {
    "id": "iwBVIL0fSrwI"
   },
   "outputs": [],
   "source": [
    "evaluated_result = RegressionEvaluator(labelCol=\"charges\" , predictionCol=\"predict\")"
   ]
  },
  {
   "cell_type": "code",
   "execution_count": 19,
   "metadata": {
    "id": "9fr05pG1UlPo"
   },
   "outputs": [
    {
     "name": "stdout",
     "output_type": "stream",
     "text": [
      "numIterations: 1\n",
      "objectiveHistory: [0.0]\n",
      "+-------------------+\n",
      "|          residuals|\n",
      "+-------------------+\n",
      "|  4250.747787531364|\n",
      "|  -8640.17567188698|\n",
      "| 2170.2782029572304|\n",
      "| 2186.2998199830204|\n",
      "| 12251.313584748903|\n",
      "| 1332.0454885837062|\n",
      "| 1145.9312372979944|\n",
      "| 1016.5902143291742|\n",
      "|  683.2101411233648|\n",
      "|-55.279134109405504|\n",
      "| -7179.847690680614|\n",
      "|-8077.9023022339425|\n",
      "|  4736.975695874223|\n",
      "| -767.6165037251315|\n",
      "|-1014.9006522880916|\n",
      "|  607.4703553357062|\n",
      "|-1703.8401245291334|\n",
      "|-1786.2681740501214|\n",
      "|-1416.8317568999496|\n",
      "|-2963.9634693843636|\n",
      "+-------------------+\n",
      "only showing top 20 rows\n",
      "\n",
      "RSME: 5914.919464\n",
      "r2: 0.756624\n"
     ]
    }
   ],
   "source": [
    "trainingSummary = regressor.summary\n",
    "print(\"numIterations: %d\" % trainingSummary.totalIterations)\n",
    "print(\"objectiveHistory: %s\" % str(trainingSummary.objectiveHistory))\n",
    "trainingSummary.residuals.show()\n",
    "print(\"RSME: %f\" % trainingSummary.rootMeanSquaredError)\n",
    "print(\"r2: %f\" % trainingSummary.r2)"
   ]
  },
  {
   "cell_type": "code",
   "execution_count": null,
   "metadata": {},
   "outputs": [],
   "source": []
  }
 ],
 "metadata": {
  "colab": {
   "name": "015020_BDDA_Question_2_Insurance_Dataset.ipynb",
   "provenance": []
  },
  "kernelspec": {
   "display_name": "Python 3",
   "language": "python",
   "name": "python3"
  }
 },
 "nbformat": 4,
 "nbformat_minor": 1
}
